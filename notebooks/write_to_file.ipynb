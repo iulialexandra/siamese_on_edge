{
 "cells": [
  {
   "cell_type": "code",
   "execution_count": null,
   "metadata": {},
   "outputs": [],
   "source": [
    "with open(\"/mnt/data/siamese_experiments/improved_siamese/Makefile\", \"r\") as prev_file, open(\"/mnt/data/siamese_experiments/improved_siamese/Makefile_new\", \"w\") as new_file:\n",
    "    prev_contents = prev_file.readlines()\n",
    "    print(prev_contents[4])\n",
    "    contents = prev_contents[2:]\n",
    "    \n",
    "    new_lines = [\"run-{}-improved_siamese_nets:\\n\".format(line_idx) for line_idx in range(1, len(contents)+1)]\n",
    "    merged = zip(contents, new_lines)\n",
    "    print(merged)\n",
    "    #Now prev_contents is a list of strings and you may add the new line to this list at any position\n",
    "    for l in range(0, 2): \n",
    "        new_file.write(prev_contents[l])\n",
    "    for new_line in merged:\n",
    "        new_file.write(\"\\n\".join(new_line))"
   ]
  },
  {
   "cell_type": "code",
   "execution_count": null,
   "metadata": {},
   "outputs": [],
   "source": []
  }
 ],
 "metadata": {
  "kernelspec": {
   "display_name": "Python 3",
   "language": "python",
   "name": "python3"
  },
  "language_info": {
   "codemirror_mode": {
    "name": "ipython",
    "version": 3
   },
   "file_extension": ".py",
   "mimetype": "text/x-python",
   "name": "python",
   "nbconvert_exporter": "python",
   "pygments_lexer": "ipython3",
   "version": "3.6.8"
  }
 },
 "nbformat": 4,
 "nbformat_minor": 2
}
